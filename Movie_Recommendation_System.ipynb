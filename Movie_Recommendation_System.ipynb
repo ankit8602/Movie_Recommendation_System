{
 "cells": [
  {
   "cell_type": "code",
   "execution_count": 1,
   "metadata": {},
   "outputs": [],
   "source": [
    "#importing the datasets\n",
    "movie_df <- read.csv(\"E:/IMDB-Dataset/movies.csv\",stringsAsFactors=FALSE)\n",
    "rating_df <- read.csv(\"E:/IMDB-Dataset/ratings.csv\")"
   ]
  },
  {
   "cell_type": "code",
   "execution_count": 2,
   "metadata": {
    "scrolled": false
   },
   "outputs": [
    {
     "data": {
      "text/html": [
       "<table>\n",
       "<thead><tr><th scope=col>movieId</th><th scope=col>title</th><th scope=col>genres</th></tr></thead>\n",
       "<tbody>\n",
       "\t<tr><td>1                                          </td><td>Toy Story (1995)                           </td><td>Adventure|Animation|Children|Comedy|Fantasy</td></tr>\n",
       "\t<tr><td>2                                          </td><td>Jumanji (1995)                             </td><td>Adventure|Children|Fantasy                 </td></tr>\n",
       "\t<tr><td>3                                          </td><td>Grumpier Old Men (1995)                    </td><td>Comedy|Romance                             </td></tr>\n",
       "\t<tr><td>4                                          </td><td>Waiting to Exhale (1995)                   </td><td>Comedy|Drama|Romance                       </td></tr>\n",
       "\t<tr><td>5                                          </td><td>Father of the Bride Part II (1995)         </td><td>Comedy                                     </td></tr>\n",
       "\t<tr><td>6                                          </td><td>Heat (1995)                                </td><td>Action|Crime|Thriller                      </td></tr>\n",
       "</tbody>\n",
       "</table>\n"
      ],
      "text/latex": [
       "\\begin{tabular}{r|lll}\n",
       " movieId & title & genres\\\\\n",
       "\\hline\n",
       "\t 1                                                                                   & Toy Story (1995)                                                                    & Adventure\\textbar{}Animation\\textbar{}Children\\textbar{}Comedy\\textbar{}Fantasy\\\\\n",
       "\t 2                                                               & Jumanji (1995)                                                  & Adventure\\textbar{}Children\\textbar{}Fantasy                 \\\\\n",
       "\t 3                                                     & Grumpier Old Men (1995)                               & Comedy\\textbar{}Romance                             \\\\\n",
       "\t 4                                                               & Waiting to Exhale (1995)                                        & Comedy\\textbar{}Drama\\textbar{}Romance                       \\\\\n",
       "\t 5                                           & Father of the Bride Part II (1995)          & Comedy                                     \\\\\n",
       "\t 6                                                               & Heat (1995)                                                     & Action\\textbar{}Crime\\textbar{}Thriller                      \\\\\n",
       "\\end{tabular}\n"
      ],
      "text/markdown": [
       "\n",
       "| movieId | title | genres |\n",
       "|---|---|---|\n",
       "| 1                                           | Toy Story (1995)                            | Adventure|Animation|Children|Comedy|Fantasy |\n",
       "| 2                                           | Jumanji (1995)                              | Adventure|Children|Fantasy                  |\n",
       "| 3                                           | Grumpier Old Men (1995)                     | Comedy|Romance                              |\n",
       "| 4                                           | Waiting to Exhale (1995)                    | Comedy|Drama|Romance                        |\n",
       "| 5                                           | Father of the Bride Part II (1995)          | Comedy                                      |\n",
       "| 6                                           | Heat (1995)                                 | Action|Crime|Thriller                       |\n",
       "\n"
      ],
      "text/plain": [
       "  movieId title                             \n",
       "1 1       Toy Story (1995)                  \n",
       "2 2       Jumanji (1995)                    \n",
       "3 3       Grumpier Old Men (1995)           \n",
       "4 4       Waiting to Exhale (1995)          \n",
       "5 5       Father of the Bride Part II (1995)\n",
       "6 6       Heat (1995)                       \n",
       "  genres                                     \n",
       "1 Adventure|Animation|Children|Comedy|Fantasy\n",
       "2 Adventure|Children|Fantasy                 \n",
       "3 Comedy|Romance                             \n",
       "4 Comedy|Drama|Romance                       \n",
       "5 Comedy                                     \n",
       "6 Action|Crime|Thriller                      "
      ]
     },
     "metadata": {},
     "output_type": "display_data"
    }
   ],
   "source": [
    "head(movie_df)"
   ]
  },
  {
   "cell_type": "code",
   "execution_count": 3,
   "metadata": {},
   "outputs": [
    {
     "data": {
      "text/html": [
       "10329"
      ],
      "text/latex": [
       "10329"
      ],
      "text/markdown": [
       "10329"
      ],
      "text/plain": [
       "[1] 10329"
      ]
     },
     "metadata": {},
     "output_type": "display_data"
    }
   ],
   "source": [
    "nrow(movie_df)"
   ]
  },
  {
   "cell_type": "code",
   "execution_count": 4,
   "metadata": {},
   "outputs": [
    {
     "data": {
      "text/html": [
       "3"
      ],
      "text/latex": [
       "3"
      ],
      "text/markdown": [
       "3"
      ],
      "text/plain": [
       "[1] 3"
      ]
     },
     "metadata": {},
     "output_type": "display_data"
    }
   ],
   "source": [
    "ncol(movie_df)"
   ]
  },
  {
   "cell_type": "code",
   "execution_count": 5,
   "metadata": {},
   "outputs": [
    {
     "data": {
      "text/html": [
       "<table>\n",
       "<thead><tr><th scope=col>userId</th><th scope=col>movieId</th><th scope=col>rating</th><th scope=col>timestamp</th></tr></thead>\n",
       "<tbody>\n",
       "\t<tr><td>1         </td><td> 16       </td><td>4.0       </td><td>1217897793</td></tr>\n",
       "\t<tr><td>1         </td><td> 24       </td><td>1.5       </td><td>1217895807</td></tr>\n",
       "\t<tr><td>1         </td><td> 32       </td><td>4.0       </td><td>1217896246</td></tr>\n",
       "\t<tr><td>1         </td><td> 47       </td><td>4.0       </td><td>1217896556</td></tr>\n",
       "\t<tr><td>1         </td><td> 50       </td><td>4.0       </td><td>1217896523</td></tr>\n",
       "\t<tr><td>1         </td><td>110       </td><td>4.0       </td><td>1217896150</td></tr>\n",
       "</tbody>\n",
       "</table>\n"
      ],
      "text/latex": [
       "\\begin{tabular}{r|llll}\n",
       " userId & movieId & rating & timestamp\\\\\n",
       "\\hline\n",
       "\t 1          &  16        & 4.0        & 1217897793\\\\\n",
       "\t 1          &  24        & 1.5        & 1217895807\\\\\n",
       "\t 1          &  32        & 4.0        & 1217896246\\\\\n",
       "\t 1          &  47        & 4.0        & 1217896556\\\\\n",
       "\t 1          &  50        & 4.0        & 1217896523\\\\\n",
       "\t 1          & 110        & 4.0        & 1217896150\\\\\n",
       "\\end{tabular}\n"
      ],
      "text/markdown": [
       "\n",
       "| userId | movieId | rating | timestamp |\n",
       "|---|---|---|---|\n",
       "| 1          |  16        | 4.0        | 1217897793 |\n",
       "| 1          |  24        | 1.5        | 1217895807 |\n",
       "| 1          |  32        | 4.0        | 1217896246 |\n",
       "| 1          |  47        | 4.0        | 1217896556 |\n",
       "| 1          |  50        | 4.0        | 1217896523 |\n",
       "| 1          | 110        | 4.0        | 1217896150 |\n",
       "\n"
      ],
      "text/plain": [
       "  userId movieId rating timestamp \n",
       "1 1       16     4.0    1217897793\n",
       "2 1       24     1.5    1217895807\n",
       "3 1       32     4.0    1217896246\n",
       "4 1       47     4.0    1217896556\n",
       "5 1       50     4.0    1217896523\n",
       "6 1      110     4.0    1217896150"
      ]
     },
     "metadata": {},
     "output_type": "display_data"
    }
   ],
   "source": [
    "head(rating_df)"
   ]
  },
  {
   "cell_type": "code",
   "execution_count": 6,
   "metadata": {},
   "outputs": [
    {
     "data": {
      "text/html": [
       "105339"
      ],
      "text/latex": [
       "105339"
      ],
      "text/markdown": [
       "105339"
      ],
      "text/plain": [
       "[1] 105339"
      ]
     },
     "metadata": {},
     "output_type": "display_data"
    }
   ],
   "source": [
    "nrow(rating_df)"
   ]
  },
  {
   "cell_type": "code",
   "execution_count": 7,
   "metadata": {
    "scrolled": true
   },
   "outputs": [
    {
     "name": "stdout",
     "output_type": "stream",
     "text": [
      "'data.frame':\t10329 obs. of  3 variables:\n",
      " $ movieId: int  1 2 3 4 5 6 7 8 9 10 ...\n",
      " $ title  : chr  \"Toy Story (1995)\" \"Jumanji (1995)\" \"Grumpier Old Men (1995)\" \"Waiting to Exhale (1995)\" ...\n",
      " $ genres : chr  \"Adventure|Animation|Children|Comedy|Fantasy\" \"Adventure|Children|Fantasy\" \"Comedy|Romance\" \"Comedy|Drama|Romance\" ...\n"
     ]
    }
   ],
   "source": [
    "str(movie_df)"
   ]
  },
  {
   "cell_type": "code",
   "execution_count": 8,
   "metadata": {},
   "outputs": [
    {
     "name": "stdout",
     "output_type": "stream",
     "text": [
      "'data.frame':\t105339 obs. of  4 variables:\n",
      " $ userId   : int  1 1 1 1 1 1 1 1 1 1 ...\n",
      " $ movieId  : int  16 24 32 47 50 110 150 161 165 204 ...\n",
      " $ rating   : num  4 1.5 4 4 4 4 3 4 3 0.5 ...\n",
      " $ timestamp: int  1217897793 1217895807 1217896246 1217896556 1217896523 1217896150 1217895940 1217897864 1217897135 1217895786 ...\n"
     ]
    }
   ],
   "source": [
    "str(rating_df)"
   ]
  },
  {
   "cell_type": "markdown",
   "metadata": {},
   "source": [
    "To code both item-based and user-based collaborative recommendation system, we first need to create the User-Product matrix. We can do this easily with the pivot_wider function from tidyr."
   ]
  },
  {
   "cell_type": "code",
   "execution_count": 10,
   "metadata": {
    "scrolled": true
   },
   "outputs": [],
   "source": [
    "library(dplyr)"
   ]
  },
  {
   "cell_type": "markdown",
   "metadata": {},
   "source": [
    "We need a ratings matrix to build a recommender model with recommenderlab. This can, again, be easily done with the dcast() function in the reshape2 package."
   ]
  },
  {
   "cell_type": "code",
   "execution_count": 11,
   "metadata": {},
   "outputs": [
    {
     "name": "stderr",
     "output_type": "stream",
     "text": [
      "Warning message:\n",
      "\"package 'reshape2' was built under R version 3.6.3\""
     ]
    }
   ],
   "source": [
    "library(reshape2)     "
   ]
  },
  {
   "cell_type": "code",
   "execution_count": 12,
   "metadata": {},
   "outputs": [],
   "source": [
    "#Create ratings matrix. Rows = userId, Columns = movieId"
   ]
  },
  {
   "cell_type": "code",
   "execution_count": 13,
   "metadata": {},
   "outputs": [],
   "source": [
    "ratingmat <- dcast(rating_df, userId~movieId, value.var = \"rating\", na.rm=FALSE)"
   ]
  },
  {
   "cell_type": "code",
   "execution_count": 14,
   "metadata": {},
   "outputs": [],
   "source": [
    "ratingmat <- as.matrix(ratingmat[,-1]) #remove userIds"
   ]
  },
  {
   "cell_type": "markdown",
   "metadata": {},
   "source": [
    "## Creation of the Recommender Model"
   ]
  },
  {
   "cell_type": "markdown",
   "metadata": {},
   "source": [
    "The User-based Collaborative Filtering recommender model was created with recommenderlab with the below parameters and the ratings matrix:\n",
    "\n",
    "Method: UBCF\n",
    "\n",
    "Similarity Calculation Method: Cosine Similarity\n",
    "\n",
    "Nearest Neighbors: 30"
   ]
  },
  {
   "cell_type": "markdown",
   "metadata": {},
   "source": [
    "The predicted item ratings of the user will be derived from the 5 nearest neighbors in its neighborhood. When the predicted item ratings are obtained, the top 10 most highly predicted ratings will be returned as the recommendations."
   ]
  },
  {
   "cell_type": "code",
   "execution_count": 16,
   "metadata": {},
   "outputs": [],
   "source": [
    "#Normalize the data:\n",
    "library(recommenderlab)"
   ]
  },
  {
   "cell_type": "code",
   "execution_count": 17,
   "metadata": {},
   "outputs": [],
   "source": [
    "#Convert rating matrix into a recommenderlab sparse matrix\n",
    "ratingmat <- as(ratingmat, \"realRatingMatrix\")"
   ]
  },
  {
   "cell_type": "code",
   "execution_count": 18,
   "metadata": {},
   "outputs": [
    {
     "data": {
      "text/plain": [
       "1 x 10325 rating matrix of class 'realRatingMatrix' with 113 ratings."
      ]
     },
     "metadata": {},
     "output_type": "display_data"
    }
   ],
   "source": [
    "head(ratingmat)"
   ]
  },
  {
   "cell_type": "code",
   "execution_count": 19,
   "metadata": {},
   "outputs": [],
   "source": [
    "#Normalize the data\n",
    "ratingmat_norm <- normalize(ratingmat)"
   ]
  },
  {
   "cell_type": "code",
   "execution_count": 20,
   "metadata": {},
   "outputs": [
    {
     "data": {
      "text/plain": [
       "1 x 10325 rating matrix of class 'realRatingMatrix' with 113 ratings.\n",
       "Normalized using center on rows."
      ]
     },
     "metadata": {},
     "output_type": "display_data"
    }
   ],
   "source": [
    "head(ratingmat_norm )"
   ]
  },
  {
   "cell_type": "code",
   "execution_count": 22,
   "metadata": {},
   "outputs": [
    {
     "name": "stderr",
     "output_type": "stream",
     "text": [
      "Warning message in .local(x, ...):\n",
      "\"x was already normalized by row!\""
     ]
    }
   ],
   "source": [
    "#Create Recommender Model. \"UBCF\" stands for User-Based Collaborative Filtering\n",
    "\n",
    "recommender_model <- Recommender(ratingmat_norm, method = \"UBCF\", param=list(method=\"Cosine\",nn=30))\n"
   ]
  },
  {
   "cell_type": "code",
   "execution_count": 28,
   "metadata": {},
   "outputs": [],
   "source": [
    "recom <- predict(recommender_model, ratingmat[1], n=10) \n",
    "#Obtain top 10 recommendations for 1st user in data"
   ]
  },
  {
   "cell_type": "code",
   "execution_count": 29,
   "metadata": {},
   "outputs": [],
   "source": [
    "recom_list <- as(recom, \"list\") #convert recommenderlab object to readable list"
   ]
  },
  {
   "cell_type": "code",
   "execution_count": 30,
   "metadata": {},
   "outputs": [
    {
     "data": {
      "text/html": [
       "<ol>\n",
       "\t<li><ol class=list-inline>\n",
       "\t<li>'25'</li>\n",
       "\t<li>'742'</li>\n",
       "\t<li>'779'</li>\n",
       "\t<li>'870'</li>\n",
       "\t<li>'1000'</li>\n",
       "\t<li>'1060'</li>\n",
       "\t<li>'1356'</li>\n",
       "\t<li>'1539'</li>\n",
       "\t<li>'1542'</li>\n",
       "\t<li>'1544'</li>\n",
       "</ol>\n",
       "</li>\n",
       "</ol>\n"
      ],
      "text/latex": [
       "\\begin{enumerate}\n",
       "\\item \\begin{enumerate*}\n",
       "\\item '25'\n",
       "\\item '742'\n",
       "\\item '779'\n",
       "\\item '870'\n",
       "\\item '1000'\n",
       "\\item '1060'\n",
       "\\item '1356'\n",
       "\\item '1539'\n",
       "\\item '1542'\n",
       "\\item '1544'\n",
       "\\end{enumerate*}\n",
       "\n",
       "\\end{enumerate}\n"
      ],
      "text/markdown": [
       "1. 1. '25'\n",
       "2. '742'\n",
       "3. '779'\n",
       "4. '870'\n",
       "5. '1000'\n",
       "6. '1060'\n",
       "7. '1356'\n",
       "8. '1539'\n",
       "9. '1542'\n",
       "10. '1544'\n",
       "\n",
       "\n",
       "\n",
       "\n",
       "\n"
      ],
      "text/plain": [
       "[[1]]\n",
       " [1] \"25\"   \"742\"  \"779\"  \"870\"  \"1000\" \"1060\" \"1356\" \"1539\" \"1542\" \"1544\"\n"
      ]
     },
     "metadata": {},
     "output_type": "display_data"
    }
   ],
   "source": [
    "head(recom_list)"
   ]
  },
  {
   "cell_type": "code",
   "execution_count": 31,
   "metadata": {},
   "outputs": [],
   "source": [
    "#Obtain recommendations\n",
    "recom_result <- matrix(0,10)\n",
    "\n",
    "for (i in c(1:10)){\n",
    " recom_result[i] <- movie_df[as.integer(recom_list[[1]][i]),2]\n",
    "}"
   ]
  },
  {
   "cell_type": "code",
   "execution_count": 32,
   "metadata": {},
   "outputs": [
    {
     "data": {
      "text/html": [
       "<table>\n",
       "<tbody>\n",
       "\t<tr><td>Leaving Las Vegas (1995)                            </td></tr>\n",
       "\t<tr><td>Gone with the Wind (1939)                           </td></tr>\n",
       "\t<tr><td>Lady of Burlesque (1943)                            </td></tr>\n",
       "\t<tr><td>Murder, My Sweet (1944)                             </td></tr>\n",
       "\t<tr><td>Terminator, The (1984)                              </td></tr>\n",
       "\t<tr><td>Forbidden Planet (1956)                             </td></tr>\n",
       "\t<tr><td>Bent (1997)                                         </td></tr>\n",
       "\t<tr><td>Nightmare on Elm Street 5: The Dream Child, A (1989)</td></tr>\n",
       "\t<tr><td>Friday the 13th Part 2 (1981)                       </td></tr>\n",
       "\t<tr><td>Friday the 13th Part IV: The Final Chapter (1984)   </td></tr>\n",
       "</tbody>\n",
       "</table>\n"
      ],
      "text/latex": [
       "\\begin{tabular}{l}\n",
       "\t Leaving Las Vegas (1995)                            \\\\\n",
       "\t Gone with the Wind (1939)                           \\\\\n",
       "\t Lady of Burlesque (1943)                            \\\\\n",
       "\t Murder, My Sweet (1944)                             \\\\\n",
       "\t Terminator, The (1984)                              \\\\\n",
       "\t Forbidden Planet (1956)                             \\\\\n",
       "\t Bent (1997)                                         \\\\\n",
       "\t Nightmare on Elm Street 5: The Dream Child, A (1989)\\\\\n",
       "\t Friday the 13th Part 2 (1981)                       \\\\\n",
       "\t Friday the 13th Part IV: The Final Chapter (1984)   \\\\\n",
       "\\end{tabular}\n"
      ],
      "text/markdown": [
       "\n",
       "| Leaving Las Vegas (1995)                             |\n",
       "| Gone with the Wind (1939)                            |\n",
       "| Lady of Burlesque (1943)                             |\n",
       "| Murder, My Sweet (1944)                              |\n",
       "| Terminator, The (1984)                               |\n",
       "| Forbidden Planet (1956)                              |\n",
       "| Bent (1997)                                          |\n",
       "| Nightmare on Elm Street 5: The Dream Child, A (1989) |\n",
       "| Friday the 13th Part 2 (1981)                        |\n",
       "| Friday the 13th Part IV: The Final Chapter (1984)    |\n",
       "\n"
      ],
      "text/plain": [
       "      [,1]                                                \n",
       " [1,] Leaving Las Vegas (1995)                            \n",
       " [2,] Gone with the Wind (1939)                           \n",
       " [3,] Lady of Burlesque (1943)                            \n",
       " [4,] Murder, My Sweet (1944)                             \n",
       " [5,] Terminator, The (1984)                              \n",
       " [6,] Forbidden Planet (1956)                             \n",
       " [7,] Bent (1997)                                         \n",
       " [8,] Nightmare on Elm Street 5: The Dream Child, A (1989)\n",
       " [9,] Friday the 13th Part 2 (1981)                       \n",
       "[10,] Friday the 13th Part IV: The Final Chapter (1984)   "
      ]
     },
     "metadata": {},
     "output_type": "display_data"
    }
   ],
   "source": [
    "recom_result"
   ]
  },
  {
   "cell_type": "markdown",
   "metadata": {},
   "source": [
    "And we have easily obtained the top 10 results for user 1! These were the movies recommended to user 1."
   ]
  }
 ],
 "metadata": {
  "kernelspec": {
   "display_name": "R",
   "language": "R",
   "name": "ir"
  },
  "language_info": {
   "codemirror_mode": "r",
   "file_extension": ".r",
   "mimetype": "text/x-r-source",
   "name": "R",
   "pygments_lexer": "r",
   "version": "3.6.1"
  }
 },
 "nbformat": 4,
 "nbformat_minor": 4
}
